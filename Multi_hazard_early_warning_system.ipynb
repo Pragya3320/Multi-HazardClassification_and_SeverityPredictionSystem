{
  "nbformat": 4,
  "nbformat_minor": 0,
  "metadata": {
    "colab": {
      "provenance": []
    },
    "kernelspec": {
      "name": "python3",
      "display_name": "Python 3"
    },
    "language_info": {
      "name": "python"
    }
  },
  "cells": [
    {
      "cell_type": "code",
      "execution_count": 1,
      "metadata": {
        "id": "EUwxMYjugH0e"
      },
      "outputs": [],
      "source": [
        "import pandas as pd\n",
        "import numpy as np"
      ]
    },
    {
      "cell_type": "code",
      "source": [
        "df = pd.read_csv(\"Natural_Disasters_Emergency_Events_Database.csv\", sep=\";\", engine=\"python\")"
      ],
      "metadata": {
        "id": "OXo-c-I9gcaJ"
      },
      "execution_count": 11,
      "outputs": []
    },
    {
      "cell_type": "code",
      "source": [
        "print(\"Shape of dataset:\", df.shape)"
      ],
      "metadata": {
        "colab": {
          "base_uri": "https://localhost:8080/"
        },
        "id": "LEm5YTv1g1Y6",
        "outputId": "5e265d5a-c3f0-4c75-856f-8be145881455"
      },
      "execution_count": 12,
      "outputs": [
        {
          "output_type": "stream",
          "name": "stdout",
          "text": [
            "Shape of dataset: (10431, 13)\n"
          ]
        }
      ]
    },
    {
      "cell_type": "code",
      "source": [
        "print(\"\\nColumn names:\\n\", df.columns)"
      ],
      "metadata": {
        "colab": {
          "base_uri": "https://localhost:8080/"
        },
        "id": "1NKcTF0bh-Of",
        "outputId": "65036540-37c0-4a97-f143-598b98541e67"
      },
      "execution_count": 13,
      "outputs": [
        {
          "output_type": "stream",
          "name": "stdout",
          "text": [
            "\n",
            "Column names:\n",
            " Index(['Year', 'Country', 'ISO', 'Disaster Group', 'Disaster Subroup',\n",
            "       'Disaster Type', 'Disaster Subtype', 'Total Events', 'Total Affected',\n",
            "       'Total Deaths', 'Total Damage (USD, original)',\n",
            "       'Total Damage (USD, adjusted)', 'CPI'],\n",
            "      dtype='object')\n"
          ]
        }
      ]
    },
    {
      "cell_type": "code",
      "source": [
        "print(\"\\nFirst 5 rows:\\n\", df.head())"
      ],
      "metadata": {
        "colab": {
          "base_uri": "https://localhost:8080/"
        },
        "id": "g-ZdZG0DiKcD",
        "outputId": "bdd5e33b-f23d-46c8-d099-4c40546a7b75"
      },
      "execution_count": 14,
      "outputs": [
        {
          "output_type": "stream",
          "name": "stdout",
          "text": [
            "\n",
            "First 5 rows:\n",
            "    Year     Country  ISO Disaster Group Disaster Subroup      Disaster Type  \\\n",
            "0  1900  Cabo Verde  CPV        Natural   Climatological            Drought   \n",
            "1  1900       India  IND        Natural   Climatological            Drought   \n",
            "2  1900     Jamaica  JAM        Natural     Hydrological              Flood   \n",
            "3  1900       Japan  JPN        Natural      Geophysical  Volcanic activity   \n",
            "4  1900      Turkey  TUR        Natural      Geophysical         Earthquake   \n",
            "\n",
            "  Disaster Subtype  Total Events  Total Affected  Total Deaths  \\\n",
            "0          Drought             1             NaN       11000.0   \n",
            "1          Drought             1             NaN     1250000.0   \n",
            "2              NaN             1             NaN         300.0   \n",
            "3         Ash fall             1             NaN          30.0   \n",
            "4  Ground movement             1             NaN         140.0   \n",
            "\n",
            "   Total Damage (USD, original)  Total Damage (USD, adjusted)              CPI  \n",
            "0                           NaN                           NaN  2,8490844088613  \n",
            "1                           NaN                           NaN  2,8490844088613  \n",
            "2                           NaN                           NaN  2,8490844088613  \n",
            "3                           NaN                           NaN  2,8490844088613  \n",
            "4                           NaN                           NaN  2,8490844088613  \n"
          ]
        }
      ]
    },
    {
      "cell_type": "code",
      "source": [
        "print(\"\\nDataset Info:\\n\")\n",
        "print(df.info())"
      ],
      "metadata": {
        "colab": {
          "base_uri": "https://localhost:8080/"
        },
        "id": "4iS0h-cMitiY",
        "outputId": "aaddd361-c8c9-4f11-99ba-82bd6c29a028"
      },
      "execution_count": 15,
      "outputs": [
        {
          "output_type": "stream",
          "name": "stdout",
          "text": [
            "\n",
            "Dataset Info:\n",
            "\n",
            "<class 'pandas.core.frame.DataFrame'>\n",
            "RangeIndex: 10431 entries, 0 to 10430\n",
            "Data columns (total 13 columns):\n",
            " #   Column                        Non-Null Count  Dtype  \n",
            "---  ------                        --------------  -----  \n",
            " 0   Year                          10431 non-null  int64  \n",
            " 1   Country                       10431 non-null  object \n",
            " 2   ISO                           10431 non-null  object \n",
            " 3   Disaster Group                10431 non-null  object \n",
            " 4   Disaster Subroup              10431 non-null  object \n",
            " 5   Disaster Type                 10431 non-null  object \n",
            " 6   Disaster Subtype              8298 non-null   object \n",
            " 7   Total Events                  10431 non-null  int64  \n",
            " 8   Total Affected                7586 non-null   float64\n",
            " 9   Total Deaths                  7375 non-null   float64\n",
            " 10  Total Damage (USD, original)  3834 non-null   float64\n",
            " 11  Total Damage (USD, adjusted)  3830 non-null   float64\n",
            " 12  CPI                           10380 non-null  object \n",
            "dtypes: float64(4), int64(2), object(7)\n",
            "memory usage: 1.0+ MB\n",
            "None\n"
          ]
        }
      ]
    },
    {
      "cell_type": "code",
      "source": [
        "print(\"\\nMissing values per column:\\n\")\n",
        "print(df.isnull().sum())"
      ],
      "metadata": {
        "colab": {
          "base_uri": "https://localhost:8080/"
        },
        "id": "SnmXcc2kjBh3",
        "outputId": "498ec953-3317-4d8f-f29b-fbc5acea9f8c"
      },
      "execution_count": 16,
      "outputs": [
        {
          "output_type": "stream",
          "name": "stdout",
          "text": [
            "\n",
            "Missing values per column:\n",
            "\n",
            "Year                               0\n",
            "Country                            0\n",
            "ISO                                0\n",
            "Disaster Group                     0\n",
            "Disaster Subroup                   0\n",
            "Disaster Type                      0\n",
            "Disaster Subtype                2133\n",
            "Total Events                       0\n",
            "Total Affected                  2845\n",
            "Total Deaths                    3056\n",
            "Total Damage (USD, original)    6597\n",
            "Total Damage (USD, adjusted)    6601\n",
            "CPI                               51\n",
            "dtype: int64\n"
          ]
        }
      ]
    },
    {
      "cell_type": "code",
      "source": [
        "print(\"\\nSummary statistics:\\n\")\n",
        "print(df.describe())"
      ],
      "metadata": {
        "colab": {
          "base_uri": "https://localhost:8080/"
        },
        "id": "X2tJYOpDjEsc",
        "outputId": "61ddf8ac-f841-430f-fdf2-867f296b30cd"
      },
      "execution_count": 17,
      "outputs": [
        {
          "output_type": "stream",
          "name": "stdout",
          "text": [
            "\n",
            "Summary statistics:\n",
            "\n",
            "               Year  Total Events  Total Affected  Total Deaths  \\\n",
            "count  10431.000000  10431.000000    7.586000e+03  7.375000e+03   \n",
            "mean    1995.609625      1.446649    1.125969e+06  3.107711e+03   \n",
            "std       22.001186      1.246589    9.760891e+06  7.255589e+04   \n",
            "min     1900.000000      1.000000    1.000000e+00  1.000000e+00   \n",
            "25%     1986.000000      1.000000    1.200000e+03  6.000000e+00   \n",
            "50%     2001.000000      1.000000    1.141400e+04  2.300000e+01   \n",
            "75%     2011.000000      1.000000    1.193045e+05  9.000000e+01   \n",
            "max     2023.000000     20.000000    3.300000e+08  3.700000e+06   \n",
            "\n",
            "       Total Damage (USD, original)  Total Damage (USD, adjusted)  \n",
            "count                  3.834000e+03                  3.830000e+03  \n",
            "mean                   1.122262e+09                  1.748704e+09  \n",
            "std                    6.792339e+09                  9.115319e+09  \n",
            "min                    2.000000e+03                  2.469000e+03  \n",
            "25%                    1.000000e+07                  2.020927e+07  \n",
            "50%                    6.800000e+07                  1.469247e+08  \n",
            "75%                    4.000000e+08                  7.847767e+08  \n",
            "max                    2.100000e+11                  2.732184e+11  \n"
          ]
        }
      ]
    },
    {
      "cell_type": "code",
      "source": [
        "print(\"\\nDisaster Type Counts:\\n\")\n",
        "print(df['Disaster Type'].value_counts())"
      ],
      "metadata": {
        "colab": {
          "base_uri": "https://localhost:8080/"
        },
        "id": "TY2dKeBNjHwP",
        "outputId": "53d761bb-0c52-4a69-c869-faa5207f03a1"
      },
      "execution_count": 18,
      "outputs": [
        {
          "output_type": "stream",
          "name": "stdout",
          "text": [
            "\n",
            "Disaster Type Counts:\n",
            "\n",
            "Disaster Type\n",
            "Flood                    3837\n",
            "Storm                    2761\n",
            "Earthquake               1087\n",
            "Drought                   784\n",
            "Landslide                 652\n",
            "Extreme temperature       565\n",
            "Wildfire                  374\n",
            "Volcanic activity         231\n",
            "Insect infestation         92\n",
            "Mass movement (dry)        44\n",
            "Glacial lake outburst       2\n",
            "Fog                         1\n",
            "Animal accident             1\n",
            "Name: count, dtype: int64\n"
          ]
        }
      ]
    },
    {
      "cell_type": "code",
      "source": [],
      "metadata": {
        "id": "x-0QaXadjPhS"
      },
      "execution_count": null,
      "outputs": []
    }
  ]
}